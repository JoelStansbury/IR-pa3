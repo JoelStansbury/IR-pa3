{
 "cells": [
  {
   "cell_type": "code",
   "execution_count": 1,
   "id": "1a634f36-1496-4646-be6d-942fa14e94e8",
   "metadata": {},
   "outputs": [],
   "source": [
    "import os\n",
    "os.chdir(\"../\")"
   ]
  },
  {
   "cell_type": "code",
   "execution_count": 2,
   "id": "3da3062b-ef48-474b-a623-e21ffa14c9df",
   "metadata": {},
   "outputs": [],
   "source": [
    "from ipycytoscape import CytoscapeWidget as Cyto\n",
    "import networkx as nx"
   ]
  },
  {
   "cell_type": "code",
   "execution_count": 3,
   "id": "e5b05f37-d2d8-4305-9881-4a5e23856444",
   "metadata": {},
   "outputs": [],
   "source": [
    "from scripts.data.load import load_cora"
   ]
  },
  {
   "cell_type": "code",
   "execution_count": 4,
   "id": "082e1b2a-ae46-455c-ace9-2d46cb0f1450",
   "metadata": {},
   "outputs": [],
   "source": [
    "ids, data, target, edges = load_cora()"
   ]
  },
  {
   "cell_type": "code",
   "execution_count": 22,
   "id": "3b05fcee-d1f5-4f09-8651-976f64082f94",
   "metadata": {},
   "outputs": [],
   "source": [
    "G = nx.DiGraph()\n",
    "G.add_edges_from(edges[:1000])"
   ]
  },
  {
   "cell_type": "code",
   "execution_count": 32,
   "id": "a34c3506-71f5-449a-b6b6-87fd119633e7",
   "metadata": {},
   "outputs": [],
   "source": [
    "cyto = Cyto(G)"
   ]
  },
  {
   "cell_type": "code",
   "execution_count": 33,
   "id": "bb24493e-8179-43b7-adaa-b1c37e9edb86",
   "metadata": {},
   "outputs": [],
   "source": [
    "cyto.set_layout(name=\"cola\")"
   ]
  },
  {
   "cell_type": "code",
   "execution_count": 34,
   "id": "d95ce197-6657-4e4d-b665-a68599601552",
   "metadata": {},
   "outputs": [
    {
     "data": {
      "application/vnd.jupyter.widget-view+json": {
       "model_id": "7d07146b689441fc87ce9a8946d609d7",
       "version_major": 2,
       "version_minor": 0
      },
      "text/plain": [
       "CytoscapeWidget(cytoscape_layout={'name': 'cola'}, cytoscape_style=[{'selector': 'node', 'css': {'background-c…"
      ]
     },
     "execution_count": 34,
     "metadata": {},
     "output_type": "execute_result"
    }
   ],
   "source": [
    "cyto"
   ]
  },
  {
   "cell_type": "code",
   "execution_count": null,
   "id": "63b0b2dc-9305-4649-8252-09a22fa5eb4a",
   "metadata": {},
   "outputs": [],
   "source": []
  }
 ],
 "metadata": {
  "kernelspec": {
   "display_name": "Python 3 (ipykernel)",
   "language": "python",
   "name": "python3"
  },
  "language_info": {
   "codemirror_mode": {
    "name": "ipython",
    "version": 3
   },
   "file_extension": ".py",
   "mimetype": "text/x-python",
   "name": "python",
   "nbconvert_exporter": "python",
   "pygments_lexer": "ipython3",
   "version": "3.10.6"
  }
 },
 "nbformat": 4,
 "nbformat_minor": 5
}
